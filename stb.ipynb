{
 "cells": [
  {
   "cell_type": "code",
   "outputs": [],
   "source": [
    "import numpy as np"
   ],
   "metadata": {
    "collapsed": false,
    "ExecuteTime": {
     "end_time": "2024-07-23T20:05:57.595504Z",
     "start_time": "2024-07-23T20:05:57.468986Z"
    }
   },
   "id": "1c8b4b551e9a709a",
   "execution_count": 1
  },
  {
   "cell_type": "code",
   "outputs": [],
   "source": [
    "org_npy = np.load('data/fern.npy', allow_pickle=True)"
   ],
   "metadata": {
    "collapsed": false,
    "ExecuteTime": {
     "end_time": "2024-07-23T20:06:24.103554Z",
     "start_time": "2024-07-23T20:06:24.086552Z"
    }
   },
   "id": "cef916a82a08dff9",
   "execution_count": 4
  },
  {
   "cell_type": "code",
   "outputs": [
    {
     "name": "stdout",
     "output_type": "stream",
     "text": [
      "(63, 256)\n",
      "(256,)\n",
      "(256, 256)\n",
      "(256,)\n",
      "(256, 256)\n",
      "(256,)\n",
      "(256, 256)\n",
      "(256,)\n",
      "(256, 256)\n",
      "(256,)\n",
      "(319, 256)\n",
      "(256,)\n",
      "(256, 256)\n",
      "(256,)\n",
      "(256, 256)\n",
      "(256,)\n",
      "(256, 256)\n",
      "(256,)\n",
      "(283, 128)\n",
      "(128,)\n",
      "(128, 3)\n",
      "(3,)\n",
      "(256, 1)\n",
      "(1,)\n"
     ]
    }
   ],
   "source": [
    "for i in org_npy:\n",
    "    print(i.shape)"
   ],
   "metadata": {
    "collapsed": false,
    "ExecuteTime": {
     "end_time": "2024-07-23T20:06:24.948161Z",
     "start_time": "2024-07-23T20:06:24.939160Z"
    }
   },
   "id": "7dbf8ea9531b0e13",
   "execution_count": 5
  },
  {
   "cell_type": "code",
   "outputs": [],
   "source": [
    "def encode_nerf(nerf_npy):\n",
    "    new_np = np.zeros((10, 256, 256))\n",
    "    input_layer = np.array([], dtype=np.float32)\n",
    "    bias_layer = np.array([], dtype=np.float32)\n",
    "\n",
    "    cn_i = 0\n",
    "    \n",
    "    for i in range(0, len(nerf_npy), 2):\n",
    "        weight_shape = nerf_npy[i].shape\n",
    "        if weight_shape == (256, 256):\n",
    "            new_np[cn_i, :, :] = nerf_npy[i]\n",
    "            bias_layer = np.append(bias_layer, nerf_npy[i+1].flatten())\n",
    "            cn_i += 1\n",
    "        elif weight_shape == (319, 256):\n",
    "            new_np[cn_i, :, :] = nerf_npy[i][63:, :]\n",
    "            input_layer = np.append(input_layer, nerf_npy[i][:63, :].flatten())\n",
    "            bias_layer = np.append(bias_layer, nerf_npy[i+1].flatten())\n",
    "            cn_i += 1\n",
    "        elif weight_shape == (283, 128):\n",
    "            input_layer = np.append(input_layer, nerf_npy[i][:27, :].flatten())\n",
    "            bias_layer = np.append(bias_layer, nerf_npy[i][27:, :].flatten())\n",
    "            bias_layer = np.append(bias_layer, nerf_npy[i+1].flatten())\n",
    "        else:\n",
    "            input_layer = np.append(input_layer, nerf_npy[i].flatten())\n",
    "            bias_layer = np.append(bias_layer, nerf_npy[i+1].flatten())\n",
    "    # print(input_layer.shape[0]/256)\n",
    "    # print(bias_layer.shape[0]/256)\n",
    "    # print((input_layer.shape[0] + bias_layer.shape[0])/256)\n",
    "\n",
    "    padding = np.zeros((256*256) - input_layer.size)\n",
    "    input_layer = np.concatenate((input_layer, padding))\n",
    "    \n",
    "    padding = np.zeros((256*256) - bias_layer.size)\n",
    "    bias_layer = np.concatenate((bias_layer, padding))\n",
    "    \n",
    "    new_np[8, :, :] = input_layer.reshape(256, 256)\n",
    "    new_np[9, :, :] = bias_layer.reshape(256, 256)\n",
    "    \n",
    "    return new_np\n",
    "\n",
    "\n",
    "def decode_nerf(new_np):\n",
    "    original_params = []\n",
    "    \n",
    "    # input_layer와 bias_layer 복원\n",
    "    input_layer_flat = new_np[8].flatten()\n",
    "    bias_layer_flat = new_np[9].flatten()\n",
    "    \n",
    "    input_i = 0\n",
    "    bias_i = 0\n",
    "    \n",
    "    # Layer 0 복원\n",
    "    first_weight = input_layer_flat[input_i:input_i + 63*256].reshape(63, 256)\n",
    "    original_params.append(first_weight)\n",
    "    input_i += 63 * 256\n",
    "    \n",
    "    first_bias = bias_layer_flat[bias_i:bias_i + 256]\n",
    "    original_params.append(first_bias)\n",
    "    bias_i += 256\n",
    "    \n",
    "    # Layer 1~8 복원\n",
    "    for cn_i in range(0, 8):\n",
    "        weight = new_np[cn_i]\n",
    "        if cn_i == 4:\n",
    "            # (319, 256) 레이어 복원\n",
    "            w5_2 = input_layer_flat[input_i:input_i + 63*256].reshape(63, 256)\n",
    "            input_i += 63 * 256\n",
    "            original_params.append(np.vstack((w5_2, weight)))\n",
    "        else:\n",
    "            original_params.append(weight)\n",
    "\n",
    "        bias = bias_layer_flat[bias_i:bias_i + 256]\n",
    "        bias_i += 256\n",
    "        original_params.append(bias)\n",
    "    \n",
    "    # Layer 9 복원\n",
    "    w9_1 = input_layer_flat[input_i:input_i + 27*128].reshape(27, 128)\n",
    "    input_i += 27*128\n",
    "    w9_2 = bias_layer_flat[bias_i:bias_i + 256*128].reshape(256, 128)\n",
    "    bias_i += 256*128\n",
    "    original_params.append(np.vstack((w9_1, w9_2)))\n",
    "    \n",
    "    b9 = bias_layer_flat[bias_i:bias_i + 128]\n",
    "    bias_i += 128\n",
    "    original_params.append(b9)\n",
    "    \n",
    "    # color Layer 복원\n",
    "    wc = input_layer_flat[input_i:input_i + 128*3].reshape(128, 3)\n",
    "    input_i += 128*3\n",
    "    original_params.append(wc) \n",
    "    \n",
    "    bc = bias_layer_flat[bias_i:bias_i + 3]\n",
    "    bias_i += 3\n",
    "    original_params.append(bc)\n",
    "\n",
    "    # density Layer 복원\n",
    "    wd = input_layer_flat[input_i:input_i+256].reshape(256, 1)\n",
    "    original_params.append(wd)\n",
    "    bd = bias_layer_flat[bias_i:bias_i+1]\n",
    "    original_params.append(bd)\n",
    "    \n",
    "    return np.array(original_params, dtype=object)\n",
    "\n",
    "def compare_params(original, decoded):\n",
    "    for i, (orig_param, dec_param) in enumerate(zip(original, decoded)):\n",
    "        if not np.array_equal(orig_param, dec_param):\n",
    "            print(f\"Mismatch found at parameter {i}\")\n",
    "            print(f\"Original shape: {orig_param.shape}, Decoded shape: {dec_param.shape}\")\n",
    "            print(f\"Original parameter: \\n{orig_param}\")\n",
    "            print(f\"Decoded parameter: \\n{dec_param}\")\n",
    "            return False\n",
    "    print(\"All parameters match.\")\n",
    "    return True"
   ],
   "metadata": {
    "collapsed": false,
    "ExecuteTime": {
     "end_time": "2024-07-23T20:06:25.717222Z",
     "start_time": "2024-07-23T20:06:25.689222Z"
    }
   },
   "id": "b324416d27ab713b",
   "execution_count": 6
  },
  {
   "cell_type": "code",
   "outputs": [
    {
     "name": "stdout",
     "output_type": "stream",
     "text": [
      "All parameters match.\n"
     ]
    },
    {
     "data": {
      "text/plain": "True"
     },
     "execution_count": 7,
     "metadata": {},
     "output_type": "execute_result"
    }
   ],
   "source": [
    "enc_npy = encode_nerf(org_npy)\n",
    "dec_npy = decode_nerf(enc_npy)\n",
    "compare_params(org_npy, dec_npy)"
   ],
   "metadata": {
    "collapsed": false,
    "ExecuteTime": {
     "end_time": "2024-07-23T20:06:26.607496Z",
     "start_time": "2024-07-23T20:06:26.576498Z"
    }
   },
   "id": "5dc81ba741302057",
   "execution_count": 7
  },
  {
   "cell_type": "code",
   "outputs": [],
   "source": [
    "np.save('enc_fern.npy', enc_npy)"
   ],
   "metadata": {
    "collapsed": false,
    "ExecuteTime": {
     "end_time": "2024-07-23T16:54:34.491467Z",
     "start_time": "2024-07-23T16:54:34.471448Z"
    }
   },
   "id": "40951de05504d5c3",
   "execution_count": 93
  },
  {
   "cell_type": "code",
   "outputs": [],
   "source": [
    "np.save('dec_fern.npy', dec_npy)"
   ],
   "metadata": {
    "collapsed": false,
    "ExecuteTime": {
     "end_time": "2024-07-23T16:54:51.903967Z",
     "start_time": "2024-07-23T16:54:51.879970Z"
    }
   },
   "id": "28da1aa7c94611cb",
   "execution_count": 94
  },
  {
   "cell_type": "code",
   "outputs": [
    {
     "name": "stdout",
     "output_type": "stream",
     "text": [
      "All parameters match.\n"
     ]
    },
    {
     "data": {
      "text/plain": "True"
     },
     "execution_count": 36,
     "metadata": {},
     "output_type": "execute_result"
    }
   ],
   "source": [
    "def encode10_3(org_npy):\n",
    "    t_shape = (512, 392)\n",
    "    t_size = 512 * 392\n",
    "    extra_size = 2048\n",
    "\n",
    "    layers_6_9 = [org_npy[6], org_npy[7], org_npy[8][:142, :], org_npy[9][:138, :]]\n",
    "    flattened_6_9 = np.concatenate([layer.flatten() for layer in layers_6_9])\n",
    "\n",
    "    channel_3 = flattened_6_9[:t_size-extra_size]\n",
    "    channel_3 = np.pad(channel_3, (0, extra_size)).reshape(t_shape)\n",
    "    \n",
    "    remain_6_9 =  flattened_6_9[t_size-extra_size:]\n",
    "    remain1 = remain_6_9[:extra_size]\n",
    "    remain2 = remain_6_9[extra_size:]\n",
    "    \n",
    "    # 첫 번째 채널에 0, 1, 2 레이어\n",
    "    channel_1 = np.concatenate([layer.flatten() for layer in org_npy[0:3]])\n",
    "    channel_1 = np.concatenate([channel_1, remain1])\n",
    "    channel_1 = np.pad(channel_1, (0, 2048)).reshape(t_shape)\n",
    "\n",
    "    # 두 번째 채널에 3, 4, 5 레이어\n",
    "    channel_2 = np.concatenate([layer.flatten() for layer in org_npy[3:6]])\n",
    "    channel_2 = np.concatenate([channel_2, remain2])               \n",
    "    channel_2 = np.pad(channel_2, (0, 2048)).reshape(t_shape)\n",
    "    \n",
    "    # 결과 배열 생성\n",
    "    encoded_npy = np.stack((channel_1, channel_2, channel_3), axis=0)\n",
    "\n",
    "    return encoded_npy\n",
    "\n",
    "def decode10_3(encoded_npy):\n",
    "    t_shape = (256, 256)\n",
    "    t_size = 256 * 256\n",
    "    def unflatten_and_extract(layers, target_shape):\n",
    "        flattened = layers.flatten()\n",
    "        extracted_layers = []\n",
    "        remain_idx = 0\n",
    "        for i in range(0, len(flattened), t_size):\n",
    "            if i+t_size < len(flattened):\n",
    "                layer = flattened[i:i+t_size].reshape(target_shape)\n",
    "                extracted_layers.append(layer)\n",
    "            else:\n",
    "                remain_idx = i\n",
    "        return extracted_layers, flattened[remain_idx:]\n",
    "    \n",
    "    # 첫 번째 채널에서 0, 1, 2 레이어 복원\n",
    "    layers_0_2, remain1 = unflatten_and_extract(encoded_npy[0], t_shape)\n",
    "    remain1 = remain1[:2048]\n",
    "\n",
    "    # 두 번째 채널에서 3, 4, 5 레이어 복원\n",
    "    layers_3_5, remain2 = unflatten_and_extract(encoded_npy[1], t_shape)\n",
    "    remain2 = remain2[:2048]\n",
    "\n",
    "    # 세 번째 채널에서 6, 7, 8, 9 레이어 복원\n",
    "    flattened_6_9 = encoded_npy[2].flatten()\n",
    "\n",
    "    layer_6 = flattened_6_9[:t_size].reshape(t_shape)\n",
    "    layer_7 = flattened_6_9[t_size:2*t_size].reshape(t_shape)\n",
    "    \n",
    "    layer_8 = flattened_6_9[2*t_size:2*t_size + 256*142]\n",
    "    layer_8 = np.pad(layer_8, (0, 256*114), 'constant', constant_values=0).reshape(t_shape)\n",
    "    \n",
    "    layer_9 = flattened_6_9[2*t_size + 256*142:-2048]\n",
    "    layer_9 = np.concatenate([layer_9, remain1, remain2])\n",
    "\n",
    "    layer_9 = np.pad(layer_9, (0, 256*118), 'constant', constant_values=0).reshape(t_shape)\n",
    "\n",
    "    layers_0_2.extend(layers_3_5)\n",
    "    layers_0_2.extend([layer_6, layer_7, layer_8, layer_9])\n",
    "\n",
    "    return np.array(layers_0_2)\n",
    "\n",
    "en3 = encode10_3(enc_npy)\n",
    "de3 = decode10_3(en3)\n",
    "compare_params(enc_npy, de3)"
   ],
   "metadata": {
    "collapsed": false,
    "ExecuteTime": {
     "end_time": "2024-07-23T20:43:45.926650Z",
     "start_time": "2024-07-23T20:43:45.885129Z"
    }
   },
   "id": "736c414c3361b461",
   "execution_count": 36
  },
  {
   "cell_type": "code",
   "outputs": [],
   "source": [],
   "metadata": {
    "collapsed": false
   },
   "id": "1bdf0d2cc0b7a9b6"
  }
 ],
 "metadata": {
  "kernelspec": {
   "display_name": "Python 3",
   "language": "python",
   "name": "python3"
  },
  "language_info": {
   "codemirror_mode": {
    "name": "ipython",
    "version": 2
   },
   "file_extension": ".py",
   "mimetype": "text/x-python",
   "name": "python",
   "nbconvert_exporter": "python",
   "pygments_lexer": "ipython2",
   "version": "2.7.6"
  }
 },
 "nbformat": 4,
 "nbformat_minor": 5
}
